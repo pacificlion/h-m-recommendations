{
 "cells": [
  {
   "cell_type": "markdown",
   "id": "e9287eab",
   "metadata": {
    "papermill": {
     "duration": 0.026714,
     "end_time": "2022-05-08T05:24:31.948279",
     "exception": false,
     "start_time": "2022-05-08T05:24:31.921565",
     "status": "completed"
    },
    "tags": []
   },
   "source": [
    "### Overview"
   ]
  },
  {
   "cell_type": "markdown",
   "id": "c070de4e",
   "metadata": {
    "papermill": {
     "duration": 0.024793,
     "end_time": "2022-05-08T05:24:31.998622",
     "exception": false,
     "start_time": "2022-05-08T05:24:31.973829",
     "status": "completed"
    },
    "tags": []
   },
   "source": [
    "In this notebook, I would like to present a framework for **partitioned validation** using one-week hold out.  \n",
    "As an example of possible groupings of customers, here I choose '**online vs. offline**', which shows that it is more difficult to predict future purchases of offline uses than to predict those of online users.  \n",
    "  \n",
    "I use some tequniqus I learned from great discussions and notebooks shared in the H&M competition.  \n",
    "So, I would really like to thank all the authors of them."
   ]
  },
  {
   "cell_type": "markdown",
   "id": "7af31ecb",
   "metadata": {
    "papermill": {
     "duration": 0.024827,
     "end_time": "2022-05-08T05:24:32.049509",
     "exception": false,
     "start_time": "2022-05-08T05:24:32.024682",
     "status": "completed"
    },
    "tags": []
   },
   "source": [
    "- **Version 6**  \n",
    "I added and fixed the code so as to make it easier to record and show results of validations on the week from 2020-9-16 to 2020-9-22.  \n",
    "In Version 6, MAP@12 of hold-out validation is around 0.0183 for online users and 0.0298 for offline users.  "
   ]
  },
  {
   "cell_type": "markdown",
   "id": "9af80054",
   "metadata": {
    "papermill": {
     "duration": 0.024887,
     "end_time": "2022-05-08T05:24:32.099539",
     "exception": false,
     "start_time": "2022-05-08T05:24:32.074652",
     "status": "completed"
    },
    "tags": []
   },
   "source": [
    "### Libraries and Functions"
   ]
  },
  {
   "cell_type": "code",
   "execution_count": 1,
   "id": "a41b479a",
   "metadata": {
    "_cell_guid": "b1076dfc-b9ad-4769-8c92-a6c4dae69d19",
    "_uuid": "8f2839f25d086af736a60e9eeb907d3b93b6e0e5",
    "execution": {
     "iopub.execute_input": "2022-05-08T05:24:32.185498Z",
     "iopub.status.busy": "2022-05-08T05:24:32.184584Z",
     "iopub.status.idle": "2022-05-08T05:24:33.460884Z",
     "shell.execute_reply": "2022-05-08T05:24:33.460090Z",
     "shell.execute_reply.started": "2022-05-08T05:15:49.246830Z"
    },
    "papermill": {
     "duration": 1.336547,
     "end_time": "2022-05-08T05:24:33.461098",
     "exception": false,
     "start_time": "2022-05-08T05:24:32.124551",
     "status": "completed"
    },
    "tags": []
   },
   "outputs": [],
   "source": [
    "import numpy as np, pandas as pd, datetime as dt\n",
    "import matplotlib.pyplot as plt; plt.style.use('ggplot')\n",
    "import seaborn as sns\n",
    "from collections import defaultdict\n",
    "\n",
    "def iter_to_str(iterable):\n",
    "    return \" \".join(map(lambda x: str(0) + str(x), iterable))\n",
    "\n",
    "def apk(actual, predicted, k=12):\n",
    "    if len(predicted) > k:\n",
    "        predicted = predicted[:k]\n",
    "    score, nhits = 0.0, 0.0\n",
    "    for i, p in enumerate(predicted):\n",
    "        if p in actual and p not in predicted[:i]:\n",
    "            nhits += 1.0\n",
    "            score += nhits / (i + 1.0)\n",
    "    if not actual:\n",
    "        return 0.0\n",
    "    return score / min(len(actual), k)\n",
    "\n",
    "def mapk(actual, predicted, k=12, return_apks=False):\n",
    "    assert len(actual) == len(predicted)\n",
    "    apks = [apk(ac, pr, k) for ac, pr in zip(actual, predicted) if 0 < len(ac)]\n",
    "    if return_apks:\n",
    "        return apks\n",
    "    return np.mean(apks)\n",
    "\n",
    "def blend(dt, w=[], k=12):\n",
    "    if len(w) == 0:\n",
    "        w = [1] * (len(dt))\n",
    "    preds = []\n",
    "    for i in range(len(w)):\n",
    "        preds.append(dt[i].split())\n",
    "    res = {}\n",
    "    for i in range(len(preds)):\n",
    "        if w[i] < 0:\n",
    "            continue\n",
    "        for n, v in enumerate(preds[i]):\n",
    "            if v in res:\n",
    "                res[v] += (w[i] / (n + 1))\n",
    "            else:\n",
    "                res[v] = (w[i] / (n + 1))    \n",
    "    res = list(dict(sorted(res.items(), key=lambda item: -item[1])).keys())\n",
    "    return ' '.join(res[:k])\n",
    "\n",
    "def prune(pred, ok_set, k=12):\n",
    "    pred = pred.split()\n",
    "    post = []\n",
    "    for item in pred:\n",
    "        if int(item) in ok_set and not item in post:\n",
    "            post.append(item)\n",
    "    return \" \".join(post[:k])\n",
    "\n",
    "def validation(actual, predicted, grouping, score=0, index=-1, ignore=False, figsize=(12, 6)):\n",
    "    # actual, predicted : list of lists\n",
    "    # group : pandas Series\n",
    "    # score : pandas DataFrame\n",
    "    if ignore: return\n",
    "    ap12 = mapk(actual, predicted, return_apks=True)\n",
    "    map12 = round(np.mean(ap12), 6)\n",
    "    if isinstance(score, int): score = pd.DataFrame({g:[] for g in sorted(grouping.unique().tolist())})\n",
    "    if index == -1 : index = score.shape[0]\n",
    "    score.loc[index, \"All\"] = map12\n",
    "    plt.figure(figsize=figsize)\n",
    "    plt.subplot(1, 2, 1); sns.histplot(data=ap12, log_scale=(0, 10), bins=20); plt.title(f\"MAP@12 : {map12}\")\n",
    "    for g in grouping.unique():\n",
    "        map12 = round(mapk(actual[grouping == g], predicted[grouping == g]), 6)\n",
    "        score.loc[index, g] = map12\n",
    "    plt.subplot(1, 2, 2); score[[g for g in grouping.unique()[::-1]] + ['All']].loc[index].plot.barh(); plt.title(f\"MAP@12 of Groups\")\n",
    "    vc = pd.Series(predicted).apply(len).value_counts()\n",
    "    score.loc[index, \"Fill\"] = round(1 - sum(vc[k] * (12 - k) / 12 for k in (set(range(12)) & set(vc.index))) / len(actual), 3) * 100\n",
    "    display(score)\n",
    "    return score"
   ]
  },
  {
   "cell_type": "markdown",
   "id": "a9169396",
   "metadata": {
    "papermill": {
     "duration": 0.025074,
     "end_time": "2022-05-08T05:24:33.512576",
     "exception": false,
     "start_time": "2022-05-08T05:24:33.487502",
     "status": "completed"
    },
    "tags": []
   },
   "source": [
    "### Data"
   ]
  },
  {
   "cell_type": "code",
   "execution_count": 2,
   "id": "eaff538a",
   "metadata": {
    "_cell_guid": "b1076dfc-b9ad-4769-8c92-a6c4dae69d19",
    "_uuid": "8f2839f25d086af736a60e9eeb907d3b93b6e0e5",
    "execution": {
     "iopub.execute_input": "2022-05-08T05:24:33.568931Z",
     "iopub.status.busy": "2022-05-08T05:24:33.568128Z",
     "iopub.status.idle": "2022-05-08T05:24:45.627373Z",
     "shell.execute_reply": "2022-05-08T05:24:45.626596Z",
     "shell.execute_reply.started": "2022-05-08T05:15:49.342958Z"
    },
    "papermill": {
     "duration": 12.089284,
     "end_time": "2022-05-08T05:24:45.627545",
     "exception": false,
     "start_time": "2022-05-08T05:24:33.538261",
     "status": "completed"
    },
    "tags": []
   },
   "outputs": [],
   "source": [
    "df = pd.read_parquet('../input/hm-parquets-of-datasets/transactions_train.parquet')\n",
    "sub = pd.read_csv('../input/h-and-m-personalized-fashion-recommendations/sample_submission.csv')\n",
    "cid = pd.DataFrame(sub.customer_id.apply(lambda s: int(s[-16:], 16)))"
   ]
  },
  {
   "cell_type": "markdown",
   "id": "9a625a85",
   "metadata": {
    "papermill": {
     "duration": 0.024997,
     "end_time": "2022-05-08T05:24:45.678237",
     "exception": false,
     "start_time": "2022-05-08T05:24:45.653240",
     "status": "completed"
    },
    "tags": []
   },
   "source": [
    "### Definition of Groups"
   ]
  },
  {
   "cell_type": "code",
   "execution_count": 3,
   "id": "b3146171",
   "metadata": {
    "_cell_guid": "b1076dfc-b9ad-4769-8c92-a6c4dae69d19",
    "_uuid": "8f2839f25d086af736a60e9eeb907d3b93b6e0e5",
    "execution": {
     "iopub.execute_input": "2022-05-08T05:24:45.733254Z",
     "iopub.status.busy": "2022-05-08T05:24:45.732534Z",
     "iopub.status.idle": "2022-05-08T05:24:49.448152Z",
     "shell.execute_reply": "2022-05-08T05:24:49.448597Z",
     "shell.execute_reply.started": "2022-05-08T05:15:56.062451Z"
    },
    "papermill": {
     "duration": 3.744944,
     "end_time": "2022-05-08T05:24:49.448767",
     "exception": false,
     "start_time": "2022-05-08T05:24:45.703823",
     "status": "completed"
    },
    "tags": []
   },
   "outputs": [],
   "source": [
    "group = df.groupby('customer_id').sales_channel_id.mean().round().reset_index()\\\n",
    "    .merge(cid, on='customer_id', how='right').rename(columns={'sales_channel_id':'group'})\n",
    "grouping = group.group.fillna(1.0)"
   ]
  },
  {
   "cell_type": "markdown",
   "id": "d49e6a6c",
   "metadata": {
    "papermill": {
     "duration": 0.015999,
     "end_time": "2022-05-08T05:24:49.481600",
     "exception": false,
     "start_time": "2022-05-08T05:24:49.465601",
     "status": "completed"
    },
    "tags": []
   },
   "source": [
    "### One-Week Hold Out"
   ]
  },
  {
   "cell_type": "code",
   "execution_count": 4,
   "id": "ed321c50",
   "metadata": {
    "execution": {
     "iopub.execute_input": "2022-05-08T05:24:49.518370Z",
     "iopub.status.busy": "2022-05-08T05:24:49.517707Z",
     "iopub.status.idle": "2022-05-08T05:24:55.672831Z",
     "shell.execute_reply": "2022-05-08T05:24:55.672336Z",
     "shell.execute_reply.started": "2022-05-08T05:15:59.643934Z"
    },
    "papermill": {
     "duration": 6.174769,
     "end_time": "2022-05-08T05:24:55.673028",
     "exception": false,
     "start_time": "2022-05-08T05:24:49.498259",
     "status": "completed"
    },
    "tags": []
   },
   "outputs": [],
   "source": [
    "# val_week = 104\n",
    "val_week = 105\n",
    "# id of week to be used in a validation; set 105 if you would like to create a submission\n",
    "val = df.loc[df.week == val_week].groupby('customer_id').article_id.apply(iter_to_str).reset_index()\\\n",
    "    .merge(cid, on='customer_id', how='right')\n",
    "actual = val.article_id.apply(lambda s: [] if pd.isna(s) else s.split())\n",
    "last_date = df.loc[df.week < val_week].t_dat.max()"
   ]
  },
  {
   "cell_type": "markdown",
   "id": "ed4a7e25",
   "metadata": {
    "papermill": {
     "duration": 0.016004,
     "end_time": "2022-05-08T05:24:55.705371",
     "exception": false,
     "start_time": "2022-05-08T05:24:55.689367",
     "status": "completed"
    },
    "tags": []
   },
   "source": [
    "### Last Purchased Items\n",
    "\n",
    "#### We have tuned with number of weeks and found 16 days data to give best results"
   ]
  },
  {
   "cell_type": "code",
   "execution_count": 5,
   "id": "e6371566",
   "metadata": {
    "execution": {
     "iopub.execute_input": "2022-05-08T05:24:55.751673Z",
     "iopub.status.busy": "2022-05-08T05:24:55.748912Z",
     "iopub.status.idle": "2022-05-08T05:25:06.918235Z",
     "shell.execute_reply": "2022-05-08T05:25:06.919108Z",
     "shell.execute_reply.started": "2022-05-08T05:16:06.795139Z"
    },
    "papermill": {
     "duration": 11.195992,
     "end_time": "2022-05-08T05:25:06.919318",
     "exception": false,
     "start_time": "2022-05-08T05:24:55.723326",
     "status": "completed"
    },
    "tags": []
   },
   "outputs": [],
   "source": [
    "init_date = last_date - dt.timedelta(days=30)\n",
    "train = df.loc[(df.t_dat >= init_date) & (df.t_dat <= last_date)].copy()\n",
    "train = train.merge(train.groupby('customer_id').t_dat.max().reset_index().rename(columns={'t_dat':'l_dat'}),\n",
    "                   on = 'customer_id', how='left')\n",
    "train['d_dat'] = (train.l_dat - train.t_dat).dt.days\n",
    "train = train.loc[train.d_dat < 16].sort_values(['t_dat'], ascending=False).drop_duplicates(['customer_id', 'article_id'])\n",
    "sub['last_purchase'] = train.groupby('customer_id')\\\n",
    "    .article_id.apply(iter_to_str).reset_index()\\\n",
    "    .merge(cid, on='customer_id', how='right').article_id.fillna('')\n",
    "\n",
    "predicted = sub['last_purchase'].apply(lambda s: [] if pd.isna(s) else s.split())\n",
    "score = validation(actual, predicted, grouping, index='Last Purchase', ignore=(val_week == 105))"
   ]
  },
  {
   "cell_type": "markdown",
   "id": "ef91ed13",
   "metadata": {
    "papermill": {
     "duration": 0.015992,
     "end_time": "2022-05-08T05:25:06.951686",
     "exception": false,
     "start_time": "2022-05-08T05:25:06.935694",
     "status": "completed"
    },
    "tags": []
   },
   "source": [
    "### Other Colors of Purchased Item"
   ]
  },
  {
   "cell_type": "code",
   "execution_count": 6,
   "id": "a69c9e5c",
   "metadata": {
    "execution": {
     "iopub.execute_input": "2022-05-08T05:25:06.999691Z",
     "iopub.status.busy": "2022-05-08T05:25:06.998649Z",
     "iopub.status.idle": "2022-05-08T05:25:23.136122Z",
     "shell.execute_reply": "2022-05-08T05:25:23.135378Z",
     "shell.execute_reply.started": "2022-05-08T05:16:20.774428Z"
    },
    "papermill": {
     "duration": 16.168028,
     "end_time": "2022-05-08T05:25:23.136343",
     "exception": false,
     "start_time": "2022-05-08T05:25:06.968315",
     "status": "completed"
    },
    "tags": []
   },
   "outputs": [],
   "source": [
    "init_date = last_date - dt.timedelta(days=6)\n",
    "train = df.loc[(df.t_dat >= init_date) & (df.t_dat <= last_date)].copy()\\\n",
    "    .groupby(['article_id']).t_dat.count().reset_index()\n",
    "adf = pd.read_parquet('../input/hm-parquets-of-datasets/articles.parquet')\n",
    "adf = adf.merge(train, on='article_id', how='left').rename(columns={'t_dat':'ct'})\\\n",
    "    .sort_values('ct', ascending=False).query('ct > 0')\n",
    "\n",
    "map_to_col = defaultdict(list)\n",
    "for aid in adf.article_id.tolist():\n",
    "    map_to_col[aid] = list(filter(lambda x: x != aid, adf[adf.product_code == aid // 1000].article_id.tolist()))[:1]\n",
    "\n",
    "def map_to_variation(s):\n",
    "    f = lambda item: iter_to_str(map_to_col[int(item)])\n",
    "    return ' '.join(map(f, s.split()))\n",
    "sub['other_colors'] = sub['last_purchase'].fillna('').apply(map_to_variation)\n",
    "\n",
    "predicted = sub['other_colors'].apply(lambda s: [] if pd.isna(s) else s.split())\n",
    "score = validation(actual, predicted, grouping, score, index='Other Colors', ignore=(val_week == 105))"
   ]
  },
  {
   "cell_type": "markdown",
   "id": "101e69fb",
   "metadata": {
    "papermill": {
     "duration": 0.026067,
     "end_time": "2022-05-08T05:25:23.192332",
     "exception": false,
     "start_time": "2022-05-08T05:25:23.166265",
     "status": "completed"
    },
    "tags": []
   },
   "source": [
    "### Popular Items for Each Group"
   ]
  },
  {
   "cell_type": "code",
   "execution_count": 7,
   "id": "248672c5",
   "metadata": {
    "execution": {
     "iopub.execute_input": "2022-05-08T05:25:23.248109Z",
     "iopub.status.busy": "2022-05-08T05:25:23.247405Z",
     "iopub.status.idle": "2022-05-08T05:25:30.353003Z",
     "shell.execute_reply": "2022-05-08T05:25:30.352280Z",
     "shell.execute_reply.started": "2022-05-08T05:16:39.789906Z"
    },
    "papermill": {
     "duration": 7.13425,
     "end_time": "2022-05-08T05:25:30.353192",
     "exception": false,
     "start_time": "2022-05-08T05:25:23.218942",
     "status": "completed"
    },
    "tags": []
   },
   "outputs": [],
   "source": [
    "init_date = last_date - dt.timedelta(days=5 - 1)\n",
    "group_df = pd.concat([cid, group.group.fillna(1)], axis=1) # grouping can be changed\n",
    "group_df.columns = ['customer_id', 'group']\n",
    "train = df.loc[(df.t_dat >= init_date) & (df.t_dat <= last_date)].copy()\\\n",
    "    .merge(group_df, on='customer_id', how='left')\\\n",
    "    .groupby(['group', 'article_id']).t_dat.count().reset_index()\n",
    "items = defaultdict(str)\n",
    "for g in train.group.unique():\n",
    "    items[g] = iter_to_str(train.loc[train.group == g].sort_values('t_dat', ascending=False).article_id.tolist()[:12])\n",
    "\n",
    "sub['popular_items'] = group_df.group.map(items)\n",
    "\n",
    "predicted = sub['popular_items'].apply(lambda s: [] if pd.isna(s) else s.split())\n",
    "score = validation(actual, predicted, grouping, score, index='Popular Items', ignore=(val_week == 105))"
   ]
  },
  {
   "cell_type": "markdown",
   "id": "99acc787",
   "metadata": {
    "papermill": {
     "duration": 0.027059,
     "end_time": "2022-05-08T05:25:30.408189",
     "exception": false,
     "start_time": "2022-05-08T05:25:30.381130",
     "status": "completed"
    },
    "tags": []
   },
   "source": [
    "### Blend Predictions"
   ]
  },
  {
   "cell_type": "code",
   "execution_count": 8,
   "id": "59715710",
   "metadata": {
    "execution": {
     "iopub.execute_input": "2022-05-08T05:25:30.466023Z",
     "iopub.status.busy": "2022-05-08T05:25:30.465082Z",
     "iopub.status.idle": "2022-05-08T05:25:30.671365Z",
     "shell.execute_reply": "2022-05-08T05:25:30.671977Z",
     "shell.execute_reply.started": "2022-05-08T05:16:49.434400Z"
    },
    "papermill": {
     "duration": 0.236725,
     "end_time": "2022-05-08T05:25:30.672194",
     "exception": false,
     "start_time": "2022-05-08T05:25:30.435469",
     "status": "completed"
    },
    "tags": []
   },
   "outputs": [],
   "source": [
    "init_date = last_date - dt.timedelta(days=11)\n",
    "sold_set = set(df.loc[(df.t_dat >= init_date) & (df.t_dat <= last_date)].article_id.tolist())"
   ]
  },
  {
   "cell_type": "code",
   "execution_count": 9,
   "id": "f6533a5c",
   "metadata": {
    "execution": {
     "iopub.execute_input": "2022-05-08T05:25:30.730337Z",
     "iopub.status.busy": "2022-05-08T05:25:30.729293Z",
     "iopub.status.idle": "2022-05-08T05:26:19.830906Z",
     "shell.execute_reply": "2022-05-08T05:26:19.830303Z",
     "shell.execute_reply.started": "2022-05-08T05:21:27.818665Z"
    },
    "papermill": {
     "duration": 49.133277,
     "end_time": "2022-05-08T05:26:19.831083",
     "exception": false,
     "start_time": "2022-05-08T05:25:30.697806",
     "status": "completed"
    },
    "tags": []
   },
   "outputs": [],
   "source": [
    "sub['prediction'] = sub[['last_purchase', 'other_colors', 'popular_items']]\\\n",
    "    .apply(blend, w=[100, 10, 1], axis=1, k=32).apply(prune, ok_set=sold_set)\n",
    "predicted = sub.prediction.apply(lambda s: [] if pd.isna(s) else s.split())\n",
    "score = validation(actual, predicted, grouping, score, index='Prediction', ignore=(val_week == 105))"
   ]
  },
  {
   "cell_type": "code",
   "execution_count": 10,
   "id": "4c13d267",
   "metadata": {
    "execution": {
     "iopub.execute_input": "2022-05-08T05:26:19.889281Z",
     "iopub.status.busy": "2022-05-08T05:26:19.885934Z",
     "iopub.status.idle": "2022-05-08T05:26:29.431952Z",
     "shell.execute_reply": "2022-05-08T05:26:29.431176Z",
     "shell.execute_reply.started": "2022-05-08T05:17:58.230965Z"
    },
    "papermill": {
     "duration": 9.574641,
     "end_time": "2022-05-08T05:26:29.432151",
     "exception": false,
     "start_time": "2022-05-08T05:26:19.857510",
     "status": "completed"
    },
    "tags": []
   },
   "outputs": [],
   "source": [
    "if val_week == 105:\n",
    "    sub[['customer_id', 'prediction']].to_csv('submission.csv', index=False)\n",
    "else:\n",
    "    sns.barplot(data=score, x='All', y=score.index)"
   ]
  },
  {
   "cell_type": "code",
   "execution_count": 11,
   "id": "61aefee6",
   "metadata": {
    "execution": {
     "iopub.execute_input": "2022-05-08T05:26:29.487008Z",
     "iopub.status.busy": "2022-05-08T05:26:29.486158Z",
     "iopub.status.idle": "2022-05-08T05:26:33.596583Z",
     "shell.execute_reply": "2022-05-08T05:26:33.597173Z",
     "shell.execute_reply.started": "2022-05-08T05:17:58.396390Z"
    },
    "papermill": {
     "duration": 4.139879,
     "end_time": "2022-05-08T05:26:33.597358",
     "exception": false,
     "start_time": "2022-05-08T05:26:29.457479",
     "status": "completed"
    },
    "tags": []
   },
   "outputs": [
    {
     "data": {
      "text/html": [
       "<div>\n",
       "<style scoped>\n",
       "    .dataframe tbody tr th:only-of-type {\n",
       "        vertical-align: middle;\n",
       "    }\n",
       "\n",
       "    .dataframe tbody tr th {\n",
       "        vertical-align: top;\n",
       "    }\n",
       "\n",
       "    .dataframe thead th {\n",
       "        text-align: right;\n",
       "    }\n",
       "</style>\n",
       "<table border=\"1\" class=\"dataframe\">\n",
       "  <thead>\n",
       "    <tr style=\"text-align: right;\">\n",
       "      <th></th>\n",
       "      <th>customer_id</th>\n",
       "      <th>prediction</th>\n",
       "      <th>last_purchase</th>\n",
       "      <th>other_colors</th>\n",
       "      <th>popular_items</th>\n",
       "    </tr>\n",
       "  </thead>\n",
       "  <tbody>\n",
       "    <tr>\n",
       "      <th>count</th>\n",
       "      <td>1371980</td>\n",
       "      <td>1371980</td>\n",
       "      <td>1371980</td>\n",
       "      <td>1371980</td>\n",
       "      <td>1371980</td>\n",
       "    </tr>\n",
       "    <tr>\n",
       "      <th>unique</th>\n",
       "      <td>1371980</td>\n",
       "      <td>194444</td>\n",
       "      <td>192215</td>\n",
       "      <td>169944</td>\n",
       "      <td>2</td>\n",
       "    </tr>\n",
       "    <tr>\n",
       "      <th>top</th>\n",
       "      <td>00000dbacae5abe5e23885899a1fa44253a17956c6d1c3...</td>\n",
       "      <td>0924243002 0924243001 0923758001 0714790020 09...</td>\n",
       "      <td></td>\n",
       "      <td></td>\n",
       "      <td>0924243002 0924243001 0923758001 0714790020 09...</td>\n",
       "    </tr>\n",
       "    <tr>\n",
       "      <th>freq</th>\n",
       "      <td>1</td>\n",
       "      <td>763199</td>\n",
       "      <td>1121361</td>\n",
       "      <td>1134463</td>\n",
       "      <td>928128</td>\n",
       "    </tr>\n",
       "  </tbody>\n",
       "</table>\n",
       "</div>"
      ],
      "text/plain": [
       "                                              customer_id  \\\n",
       "count                                             1371980   \n",
       "unique                                            1371980   \n",
       "top     00000dbacae5abe5e23885899a1fa44253a17956c6d1c3...   \n",
       "freq                                                    1   \n",
       "\n",
       "                                               prediction last_purchase  \\\n",
       "count                                             1371980       1371980   \n",
       "unique                                             194444        192215   \n",
       "top     0924243002 0924243001 0923758001 0714790020 09...                 \n",
       "freq                                               763199       1121361   \n",
       "\n",
       "       other_colors                                      popular_items  \n",
       "count       1371980                                            1371980  \n",
       "unique       169944                                                  2  \n",
       "top                  0924243002 0924243001 0923758001 0714790020 09...  \n",
       "freq        1134463                                             928128  "
      ]
     },
     "execution_count": 11,
     "metadata": {},
     "output_type": "execute_result"
    }
   ],
   "source": [
    "sub.describe()"
   ]
  },
  {
   "cell_type": "code",
   "execution_count": null,
   "id": "cf9b8411",
   "metadata": {
    "papermill": {
     "duration": 0.025983,
     "end_time": "2022-05-08T05:26:33.650305",
     "exception": false,
     "start_time": "2022-05-08T05:26:33.624322",
     "status": "completed"
    },
    "tags": []
   },
   "outputs": [],
   "source": []
  }
 ],
 "metadata": {
  "kernelspec": {
   "display_name": "Python 3 (ipykernel)",
   "language": "python",
   "name": "python3"
  },
  "language_info": {
   "codemirror_mode": {
    "name": "ipython",
    "version": 3
   },
   "file_extension": ".py",
   "mimetype": "text/x-python",
   "name": "python",
   "nbconvert_exporter": "python",
   "pygments_lexer": "ipython3",
   "version": "3.7.13"
  },
  "papermill": {
   "default_parameters": {},
   "duration": 136.580195,
   "end_time": "2022-05-08T05:26:36.285686",
   "environment_variables": {},
   "exception": null,
   "input_path": "__notebook__.ipynb",
   "output_path": "__notebook__.ipynb",
   "parameters": {},
   "start_time": "2022-05-08T05:24:19.705491",
   "version": "2.3.3"
  }
 },
 "nbformat": 4,
 "nbformat_minor": 5
}
