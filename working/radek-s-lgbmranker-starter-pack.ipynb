{
 "cells": [
  {
   "cell_type": "markdown",
   "id": "47c57ad9",
   "metadata": {
    "papermill": {
     "duration": 0.043373,
     "end_time": "2022-05-12T00:23:15.424462",
     "exception": false,
     "start_time": "2022-05-12T00:23:15.381089",
     "status": "completed"
    },
    "tags": []
   },
   "source": [
    "Radek posted about this [here](https://www.kaggle.com/competitions/h-and-m-personalized-fashion-recommendations/discussion/309220), and linked to a GitHub repo with the code.\n",
    "\n",
    "I just transferred that code here to Kaggle notebooks, that's all."
   ]
  },
  {
   "cell_type": "code",
   "execution_count": 52,
   "id": "f396ba3c",
   "metadata": {
    "execution": {
     "iopub.execute_input": "2022-05-12T00:23:15.511088Z",
     "iopub.status.busy": "2022-05-12T00:23:15.510209Z",
     "iopub.status.idle": "2022-05-12T00:23:15.524649Z",
     "shell.execute_reply": "2022-05-12T00:23:15.523743Z"
    },
    "papermill": {
     "duration": 0.059328,
     "end_time": "2022-05-12T00:23:15.527525",
     "exception": false,
     "start_time": "2022-05-12T00:23:15.468197",
     "status": "completed"
    },
    "tags": []
   },
   "outputs": [],
   "source": [
    "import numpy as np\n",
    "\n",
    "def apk(actual, predicted, k=10):\n",
    "    \"\"\"\n",
    "    Computes the average precision at k.\n",
    "\n",
    "    This function computes the average prescision at k between two lists of\n",
    "    items.\n",
    "\n",
    "    Parameters\n",
    "    ----------\n",
    "    actual : list\n",
    "             A list of elements that are to be predicted (order doesn't matter)\n",
    "    predicted : list\n",
    "                A list of predicted elements (order does matter)\n",
    "    k : int, optional\n",
    "        The maximum number of predicted elements\n",
    "\n",
    "    Returns\n",
    "    -------\n",
    "    score : double\n",
    "            The average precision at k over the input lists\n",
    "\n",
    "    \"\"\"\n",
    "    if len(predicted)>k:\n",
    "        predicted = predicted[:k]\n",
    "\n",
    "    score = 0.0\n",
    "    num_hits = 0.0\n",
    "\n",
    "    for i,p in enumerate(predicted):\n",
    "        if p in actual and p not in predicted[:i]:\n",
    "            num_hits += 1.0\n",
    "            score += num_hits / (i+1.0)\n",
    "\n",
    "    if not actual:\n",
    "        return 0.0\n",
    "\n",
    "    return score / min(len(actual), k)\n",
    "\n",
    "def mapk(actual, predicted, k=10):\n",
    "    \"\"\"\n",
    "    Computes the mean average precision at k.\n",
    "\n",
    "    This function computes the mean average prescision at k between two lists\n",
    "    of lists of items.\n",
    "\n",
    "    Parameters\n",
    "    ----------\n",
    "    actual : list\n",
    "             A list of lists of elements that are to be predicted \n",
    "             (order doesn't matter in the lists)\n",
    "    predicted : list\n",
    "                A list of lists of predicted elements\n",
    "                (order matters in the lists)\n",
    "    k : int, optional\n",
    "        The maximum number of predicted elements\n",
    "\n",
    "    Returns\n",
    "    -------\n",
    "    score : double\n",
    "            The mean average precision at k over the input lists\n",
    "\n",
    "    \"\"\"\n",
    "    return np.mean([apk(a,p,k) for a,p in zip(actual, predicted)])"
   ]
  },
  {
   "cell_type": "code",
   "execution_count": 53,
   "id": "6558bc94",
   "metadata": {
    "execution": {
     "iopub.execute_input": "2022-05-12T00:23:15.606541Z",
     "iopub.status.busy": "2022-05-12T00:23:15.605956Z",
     "iopub.status.idle": "2022-05-12T00:23:16.720569Z",
     "shell.execute_reply": "2022-05-12T00:23:16.719006Z"
    },
    "papermill": {
     "duration": 1.157573,
     "end_time": "2022-05-12T00:23:16.723526",
     "exception": false,
     "start_time": "2022-05-12T00:23:15.565953",
     "status": "completed"
    },
    "tags": []
   },
   "outputs": [],
   "source": [
    "from sklearn.base import BaseEstimator, TransformerMixin\n",
    "import numpy as np\n",
    "\n",
    "# https://www.kaggle.com/c/h-and-m-personalized-fashion-recommendations/discussion/308635\n",
    "def customer_hex_id_to_int(series):\n",
    "    return series.str[-16:].apply(hex_id_to_int)\n",
    "\n",
    "def hex_id_to_int(str):\n",
    "    return int(str[-16:], 16)\n",
    "\n",
    "def article_id_str_to_int(series):\n",
    "    return series.astype('int32')\n",
    "\n",
    "def article_id_int_to_str(series):\n",
    "    return '0' + series.astype('str')\n",
    "\n",
    "class Categorize(BaseEstimator, TransformerMixin):\n",
    "    def __init__(self, min_examples=0):\n",
    "        self.min_examples = min_examples\n",
    "        self.categories = []\n",
    "        \n",
    "    def fit(self, X):\n",
    "        for i in range(X.shape[1]):\n",
    "            vc = X.iloc[:, i].value_counts()\n",
    "            self.categories.append(vc[vc > self.min_examples].index.tolist())\n",
    "        return self\n",
    "\n",
    "    def transform(self, X):\n",
    "        data = {X.columns[i]: pd.Categorical(X.iloc[:, i], categories=self.categories[i]).codes for i in range(X.shape[1])}\n",
    "        return pd.DataFrame(data=data)\n",
    "\n",
    "\n",
    "def calculate_apk(list_of_preds, list_of_gts):\n",
    "    # for fast validation this can be changed to operate on dicts of {'cust_id_int': [art_id_int, ...]}\n",
    "    # using 'data/val_week_purchases_by_cust.pkl'\n",
    "    apks = []\n",
    "    for preds, gt in zip(list_of_preds, list_of_gts):\n",
    "        apks.append(apk(gt, preds, k=12))\n",
    "    return np.mean(apks)"
   ]
  },
  {
   "cell_type": "code",
   "execution_count": 54,
   "id": "086c1aaa",
   "metadata": {
    "execution": {
     "iopub.execute_input": "2022-05-12T00:23:16.803224Z",
     "iopub.status.busy": "2022-05-12T00:23:16.802780Z",
     "iopub.status.idle": "2022-05-12T00:23:16.806918Z",
     "shell.execute_reply": "2022-05-12T00:23:16.806323Z"
    },
    "papermill": {
     "duration": 0.046112,
     "end_time": "2022-05-12T00:23:16.808739",
     "exception": false,
     "start_time": "2022-05-12T00:23:16.762627",
     "status": "completed"
    },
    "tags": []
   },
   "outputs": [],
   "source": [
    "import pandas as pd"
   ]
  },
  {
   "cell_type": "code",
   "execution_count": 55,
   "id": "5466d47c",
   "metadata": {
    "execution": {
     "iopub.execute_input": "2022-05-12T00:23:16.890477Z",
     "iopub.status.busy": "2022-05-12T00:23:16.889799Z",
     "iopub.status.idle": "2022-05-12T00:23:24.908336Z",
     "shell.execute_reply": "2022-05-12T00:23:24.907074Z"
    },
    "papermill": {
     "duration": 8.063187,
     "end_time": "2022-05-12T00:23:24.911767",
     "exception": false,
     "start_time": "2022-05-12T00:23:16.848580",
     "status": "completed"
    },
    "tags": []
   },
   "outputs": [
    {
     "name": "stdout",
     "output_type": "stream",
     "text": [
      "CPU times: user 3.78 s, sys: 1.1 s, total: 4.88 s\n",
      "Wall time: 1.55 s\n"
     ]
    }
   ],
   "source": [
    "%%time\n",
    "\n",
    "transactions = pd.read_parquet('../input/hm-parquets-of-datasets/transactions_train.parquet')\n",
    "customers = pd.read_parquet('../input/hm-parquets-of-datasets/customers.parquet')\n",
    "articles = pd.read_parquet('../input/hm-parquets-of-datasets/articles.parquet')"
   ]
  },
  {
   "cell_type": "code",
   "execution_count": 56,
   "id": "29be0059",
   "metadata": {
    "execution": {
     "iopub.execute_input": "2022-05-12T00:23:24.993330Z",
     "iopub.status.busy": "2022-05-12T00:23:24.992581Z",
     "iopub.status.idle": "2022-05-12T00:23:25.027686Z",
     "shell.execute_reply": "2022-05-12T00:23:25.026998Z"
    },
    "papermill": {
     "duration": 0.077474,
     "end_time": "2022-05-12T00:23:25.030569",
     "exception": false,
     "start_time": "2022-05-12T00:23:24.953095",
     "status": "completed"
    },
    "tags": []
   },
   "outputs": [
    {
     "data": {
      "text/plain": [
       "104"
      ]
     },
     "execution_count": 56,
     "metadata": {},
     "output_type": "execute_result"
    }
   ],
   "source": [
    "transactions['week'].max()"
   ]
  },
  {
   "cell_type": "markdown",
   "id": "a353a951",
   "metadata": {},
   "source": [
    "### We have tuned with number of weeks and found 6 weeks data to give best results"
   ]
  },
  {
   "cell_type": "code",
   "execution_count": 57,
   "id": "08b04652",
   "metadata": {
    "execution": {
     "iopub.execute_input": "2022-05-12T00:23:25.114550Z",
     "iopub.status.busy": "2022-05-12T00:23:25.114044Z",
     "iopub.status.idle": "2022-05-12T00:23:25.332499Z",
     "shell.execute_reply": "2022-05-12T00:23:25.331566Z"
    },
    "papermill": {
     "duration": 0.262972,
     "end_time": "2022-05-12T00:23:25.334987",
     "exception": false,
     "start_time": "2022-05-12T00:23:25.072015",
     "status": "completed"
    },
    "tags": []
   },
   "outputs": [],
   "source": [
    "test_week = transactions.week.max() + 1\n",
    "transactions = transactions[transactions.week > transactions.week.max() - 6]"
   ]
  },
  {
   "cell_type": "markdown",
   "id": "d90340e1",
   "metadata": {
    "papermill": {
     "duration": 0.038524,
     "end_time": "2022-05-12T00:23:25.413879",
     "exception": false,
     "start_time": "2022-05-12T00:23:25.375355",
     "status": "completed"
    },
    "tags": []
   },
   "source": [
    "# Generating candidates"
   ]
  },
  {
   "cell_type": "markdown",
   "id": "5e6bfc9a",
   "metadata": {
    "papermill": {
     "duration": 0.039811,
     "end_time": "2022-05-12T00:23:25.494301",
     "exception": false,
     "start_time": "2022-05-12T00:23:25.454490",
     "status": "completed"
    },
    "tags": []
   },
   "source": [
    "### Last purchase candidates"
   ]
  },
  {
   "cell_type": "code",
   "execution_count": 58,
   "id": "a965b012",
   "metadata": {
    "execution": {
     "iopub.execute_input": "2022-05-12T00:23:25.576894Z",
     "iopub.status.busy": "2022-05-12T00:23:25.576612Z",
     "iopub.status.idle": "2022-05-12T00:23:39.447573Z",
     "shell.execute_reply": "2022-05-12T00:23:39.446458Z"
    },
    "papermill": {
     "duration": 13.915805,
     "end_time": "2022-05-12T00:23:39.449972",
     "exception": false,
     "start_time": "2022-05-12T00:23:25.534167",
     "status": "completed"
    },
    "tags": []
   },
   "outputs": [
    {
     "name": "stdout",
     "output_type": "stream",
     "text": [
      "CPU times: user 11 s, sys: 407 ms, total: 11.4 s\n",
      "Wall time: 11.1 s\n"
     ]
    }
   ],
   "source": [
    "%%time\n",
    "\n",
    "c2weeks = transactions.groupby('customer_id')['week'].unique()"
   ]
  },
  {
   "cell_type": "code",
   "execution_count": 59,
   "id": "5f06dbdc",
   "metadata": {
    "execution": {
     "iopub.execute_input": "2022-05-12T00:23:39.544616Z",
     "iopub.status.busy": "2022-05-12T00:23:39.544174Z",
     "iopub.status.idle": "2022-05-12T00:23:39.597597Z",
     "shell.execute_reply": "2022-05-12T00:23:39.596492Z"
    },
    "papermill": {
     "duration": 0.103723,
     "end_time": "2022-05-12T00:23:39.600233",
     "exception": false,
     "start_time": "2022-05-12T00:23:39.496510",
     "status": "completed"
    },
    "tags": []
   },
   "outputs": [
    {
     "data": {
      "text/html": [
       "<div>\n",
       "<style scoped>\n",
       "    .dataframe tbody tr th:only-of-type {\n",
       "        vertical-align: middle;\n",
       "    }\n",
       "\n",
       "    .dataframe tbody tr th {\n",
       "        vertical-align: top;\n",
       "    }\n",
       "\n",
       "    .dataframe thead th {\n",
       "        text-align: right;\n",
       "    }\n",
       "</style>\n",
       "<table border=\"1\" class=\"dataframe\">\n",
       "  <thead>\n",
       "    <tr style=\"text-align: right;\">\n",
       "      <th></th>\n",
       "      <th>min</th>\n",
       "      <th>max</th>\n",
       "    </tr>\n",
       "    <tr>\n",
       "      <th>week</th>\n",
       "      <th></th>\n",
       "      <th></th>\n",
       "    </tr>\n",
       "  </thead>\n",
       "  <tbody>\n",
       "    <tr>\n",
       "      <th>99</th>\n",
       "      <td>2020-08-12</td>\n",
       "      <td>2020-08-18</td>\n",
       "    </tr>\n",
       "    <tr>\n",
       "      <th>100</th>\n",
       "      <td>2020-08-19</td>\n",
       "      <td>2020-08-25</td>\n",
       "    </tr>\n",
       "    <tr>\n",
       "      <th>101</th>\n",
       "      <td>2020-08-26</td>\n",
       "      <td>2020-09-01</td>\n",
       "    </tr>\n",
       "    <tr>\n",
       "      <th>102</th>\n",
       "      <td>2020-09-02</td>\n",
       "      <td>2020-09-08</td>\n",
       "    </tr>\n",
       "    <tr>\n",
       "      <th>103</th>\n",
       "      <td>2020-09-09</td>\n",
       "      <td>2020-09-15</td>\n",
       "    </tr>\n",
       "    <tr>\n",
       "      <th>104</th>\n",
       "      <td>2020-09-16</td>\n",
       "      <td>2020-09-22</td>\n",
       "    </tr>\n",
       "  </tbody>\n",
       "</table>\n",
       "</div>"
      ],
      "text/plain": [
       "            min        max\n",
       "week                      \n",
       "99   2020-08-12 2020-08-18\n",
       "100  2020-08-19 2020-08-25\n",
       "101  2020-08-26 2020-09-01\n",
       "102  2020-09-02 2020-09-08\n",
       "103  2020-09-09 2020-09-15\n",
       "104  2020-09-16 2020-09-22"
      ]
     },
     "execution_count": 59,
     "metadata": {},
     "output_type": "execute_result"
    }
   ],
   "source": [
    "transactions.groupby('week')['t_dat'].agg(['min', 'max'])"
   ]
  },
  {
   "cell_type": "code",
   "execution_count": 60,
   "id": "a23fdee1",
   "metadata": {
    "execution": {
     "iopub.execute_input": "2022-05-12T00:23:39.690932Z",
     "iopub.status.busy": "2022-05-12T00:23:39.690646Z",
     "iopub.status.idle": "2022-05-12T00:23:40.241494Z",
     "shell.execute_reply": "2022-05-12T00:23:40.239699Z"
    },
    "papermill": {
     "duration": 0.59922,
     "end_time": "2022-05-12T00:23:40.244176",
     "exception": false,
     "start_time": "2022-05-12T00:23:39.644956",
     "status": "completed"
    },
    "tags": []
   },
   "outputs": [
    {
     "name": "stdout",
     "output_type": "stream",
     "text": [
      "CPU times: user 368 ms, sys: 56.1 ms, total: 424 ms\n",
      "Wall time: 423 ms\n"
     ]
    }
   ],
   "source": [
    "%%time\n",
    "\n",
    "c2weeks2shifted_weeks = {}\n",
    "\n",
    "for c_id, weeks in c2weeks.items():\n",
    "    c2weeks2shifted_weeks[c_id] = {}\n",
    "    for i in range(weeks.shape[0]-1):\n",
    "        c2weeks2shifted_weeks[c_id][weeks[i]] = weeks[i+1]\n",
    "    c2weeks2shifted_weeks[c_id][weeks[-1]] = test_week"
   ]
  },
  {
   "cell_type": "code",
   "execution_count": 61,
   "id": "9d69711d",
   "metadata": {
    "execution": {
     "iopub.execute_input": "2022-05-12T00:23:40.331470Z",
     "iopub.status.busy": "2022-05-12T00:23:40.331086Z",
     "iopub.status.idle": "2022-05-12T00:23:40.335540Z",
     "shell.execute_reply": "2022-05-12T00:23:40.334561Z"
    },
    "papermill": {
     "duration": 0.050197,
     "end_time": "2022-05-12T00:23:40.337553",
     "exception": false,
     "start_time": "2022-05-12T00:23:40.287356",
     "status": "completed"
    },
    "tags": []
   },
   "outputs": [],
   "source": [
    "# c2weeks2shifted_weeks[28847241659200]"
   ]
  },
  {
   "cell_type": "code",
   "execution_count": 62,
   "id": "ef12e858",
   "metadata": {
    "execution": {
     "iopub.execute_input": "2022-05-12T00:23:40.426474Z",
     "iopub.status.busy": "2022-05-12T00:23:40.425869Z",
     "iopub.status.idle": "2022-05-12T00:23:40.440777Z",
     "shell.execute_reply": "2022-05-12T00:23:40.439835Z"
    },
    "papermill": {
     "duration": 0.062016,
     "end_time": "2022-05-12T00:23:40.443179",
     "exception": false,
     "start_time": "2022-05-12T00:23:40.381163",
     "status": "completed"
    },
    "tags": []
   },
   "outputs": [],
   "source": [
    "candidates_last_purchase = transactions.copy()"
   ]
  },
  {
   "cell_type": "code",
   "execution_count": 63,
   "id": "835f00e1",
   "metadata": {
    "execution": {
     "iopub.execute_input": "2022-05-12T00:23:40.527062Z",
     "iopub.status.busy": "2022-05-12T00:23:40.526421Z",
     "iopub.status.idle": "2022-05-12T00:23:45.205788Z",
     "shell.execute_reply": "2022-05-12T00:23:45.204207Z"
    },
    "papermill": {
     "duration": 4.723692,
     "end_time": "2022-05-12T00:23:45.208533",
     "exception": false,
     "start_time": "2022-05-12T00:23:40.484841",
     "status": "completed"
    },
    "tags": []
   },
   "outputs": [
    {
     "name": "stdout",
     "output_type": "stream",
     "text": [
      "CPU times: user 3.87 s, sys: 2.7 ms, total: 3.88 s\n",
      "Wall time: 3.88 s\n"
     ]
    }
   ],
   "source": [
    "%%time\n",
    "\n",
    "weeks = []\n",
    "for i, (c_id, week) in enumerate(zip(transactions['customer_id'], transactions['week'])):\n",
    "    weeks.append(c2weeks2shifted_weeks[c_id][week])\n",
    "    \n",
    "candidates_last_purchase.week=weeks"
   ]
  },
  {
   "cell_type": "code",
   "execution_count": 64,
   "id": "b096885f",
   "metadata": {
    "execution": {
     "iopub.execute_input": "2022-05-12T00:23:45.301557Z",
     "iopub.status.busy": "2022-05-12T00:23:45.301209Z",
     "iopub.status.idle": "2022-05-12T00:23:45.305307Z",
     "shell.execute_reply": "2022-05-12T00:23:45.304498Z"
    },
    "papermill": {
     "duration": 0.053479,
     "end_time": "2022-05-12T00:23:45.307466",
     "exception": false,
     "start_time": "2022-05-12T00:23:45.253987",
     "status": "completed"
    },
    "tags": []
   },
   "outputs": [],
   "source": [
    "# candidates_last_purchase[candidates_last_purchase['customer_id']==272412481300040]"
   ]
  },
  {
   "cell_type": "code",
   "execution_count": 65,
   "id": "90da3915",
   "metadata": {
    "execution": {
     "iopub.execute_input": "2022-05-12T00:23:45.394938Z",
     "iopub.status.busy": "2022-05-12T00:23:45.394558Z",
     "iopub.status.idle": "2022-05-12T00:23:45.399735Z",
     "shell.execute_reply": "2022-05-12T00:23:45.398058Z"
    },
    "papermill": {
     "duration": 0.050052,
     "end_time": "2022-05-12T00:23:45.402129",
     "exception": false,
     "start_time": "2022-05-12T00:23:45.352077",
     "status": "completed"
    },
    "tags": []
   },
   "outputs": [],
   "source": [
    "# transactions[transactions['customer_id']==272412481300040]"
   ]
  },
  {
   "cell_type": "markdown",
   "id": "042edfb3",
   "metadata": {
    "papermill": {
     "duration": 0.039772,
     "end_time": "2022-05-12T00:23:45.485337",
     "exception": false,
     "start_time": "2022-05-12T00:23:45.445565",
     "status": "completed"
    },
    "tags": []
   },
   "source": [
    "### Bestsellers candidates"
   ]
  },
  {
   "cell_type": "code",
   "execution_count": 66,
   "id": "ab2d0354",
   "metadata": {
    "execution": {
     "iopub.execute_input": "2022-05-12T00:23:45.574102Z",
     "iopub.status.busy": "2022-05-12T00:23:45.573806Z",
     "iopub.status.idle": "2022-05-12T00:23:45.727293Z",
     "shell.execute_reply": "2022-05-12T00:23:45.726464Z"
    },
    "papermill": {
     "duration": 0.200898,
     "end_time": "2022-05-12T00:23:45.729654",
     "exception": false,
     "start_time": "2022-05-12T00:23:45.528756",
     "status": "completed"
    },
    "tags": []
   },
   "outputs": [],
   "source": [
    "mean_price = transactions \\\n",
    "    .groupby(['week', 'article_id'])['price'].mean()"
   ]
  },
  {
   "cell_type": "code",
   "execution_count": 67,
   "id": "3269a29e",
   "metadata": {
    "execution": {
     "iopub.execute_input": "2022-05-12T00:23:45.812473Z",
     "iopub.status.busy": "2022-05-12T00:23:45.811867Z",
     "iopub.status.idle": "2022-05-12T00:23:46.295157Z",
     "shell.execute_reply": "2022-05-12T00:23:46.294114Z"
    },
    "papermill": {
     "duration": 0.527264,
     "end_time": "2022-05-12T00:23:46.297453",
     "exception": false,
     "start_time": "2022-05-12T00:23:45.770189",
     "status": "completed"
    },
    "tags": []
   },
   "outputs": [],
   "source": [
    "sales = transactions \\\n",
    "    .groupby('week')['article_id'].value_counts() \\\n",
    "    .groupby('week').rank(method='dense', ascending=False) \\\n",
    "    .groupby('week').head(12).rename('bestseller_rank').astype('int8')"
   ]
  },
  {
   "cell_type": "code",
   "execution_count": 68,
   "id": "5478ccd6",
   "metadata": {
    "execution": {
     "iopub.execute_input": "2022-05-12T00:23:46.384772Z",
     "iopub.status.busy": "2022-05-12T00:23:46.384425Z",
     "iopub.status.idle": "2022-05-12T00:23:46.389102Z",
     "shell.execute_reply": "2022-05-12T00:23:46.387666Z"
    },
    "papermill": {
     "duration": 0.051609,
     "end_time": "2022-05-12T00:23:46.391435",
     "exception": false,
     "start_time": "2022-05-12T00:23:46.339826",
     "status": "completed"
    },
    "tags": []
   },
   "outputs": [],
   "source": [
    "# sales"
   ]
  },
  {
   "cell_type": "code",
   "execution_count": 69,
   "id": "d4bdc428",
   "metadata": {
    "execution": {
     "iopub.execute_input": "2022-05-12T00:23:46.479765Z",
     "iopub.status.busy": "2022-05-12T00:23:46.479214Z",
     "iopub.status.idle": "2022-05-12T00:23:46.482872Z",
     "shell.execute_reply": "2022-05-12T00:23:46.482282Z"
    },
    "papermill": {
     "duration": 0.049807,
     "end_time": "2022-05-12T00:23:46.484779",
     "exception": false,
     "start_time": "2022-05-12T00:23:46.434972",
     "status": "completed"
    },
    "tags": []
   },
   "outputs": [],
   "source": [
    "# sales.loc[95]"
   ]
  },
  {
   "cell_type": "code",
   "execution_count": 70,
   "id": "f00c8631",
   "metadata": {
    "execution": {
     "iopub.execute_input": "2022-05-12T00:23:46.573318Z",
     "iopub.status.busy": "2022-05-12T00:23:46.573015Z",
     "iopub.status.idle": "2022-05-12T00:23:46.635467Z",
     "shell.execute_reply": "2022-05-12T00:23:46.634477Z"
    },
    "papermill": {
     "duration": 0.108988,
     "end_time": "2022-05-12T00:23:46.637856",
     "exception": false,
     "start_time": "2022-05-12T00:23:46.528868",
     "status": "completed"
    },
    "tags": []
   },
   "outputs": [],
   "source": [
    "bestsellers_previous_week = pd.merge(sales, mean_price, on=['week', 'article_id']).reset_index()\n",
    "bestsellers_previous_week.week += 1"
   ]
  },
  {
   "cell_type": "code",
   "execution_count": 71,
   "id": "4c034b39",
   "metadata": {
    "execution": {
     "iopub.execute_input": "2022-05-12T00:23:46.723960Z",
     "iopub.status.busy": "2022-05-12T00:23:46.723680Z",
     "iopub.status.idle": "2022-05-12T00:23:47.056202Z",
     "shell.execute_reply": "2022-05-12T00:23:47.054833Z"
    },
    "papermill": {
     "duration": 0.377854,
     "end_time": "2022-05-12T00:23:47.058655",
     "exception": false,
     "start_time": "2022-05-12T00:23:46.680801",
     "status": "completed"
    },
    "tags": []
   },
   "outputs": [],
   "source": [
    "unique_transactions = transactions \\\n",
    "    .groupby(['week', 'customer_id']) \\\n",
    "    .head(1) \\\n",
    "    .drop(columns=['article_id', 'price']) \\\n",
    "    .copy()"
   ]
  },
  {
   "cell_type": "code",
   "execution_count": 72,
   "id": "50a7fa50",
   "metadata": {
    "execution": {
     "iopub.execute_input": "2022-05-12T00:23:47.144600Z",
     "iopub.status.busy": "2022-05-12T00:23:47.144258Z",
     "iopub.status.idle": "2022-05-12T00:23:47.308547Z",
     "shell.execute_reply": "2022-05-12T00:23:47.307452Z"
    },
    "papermill": {
     "duration": 0.207756,
     "end_time": "2022-05-12T00:23:47.310931",
     "exception": false,
     "start_time": "2022-05-12T00:23:47.103175",
     "status": "completed"
    },
    "tags": []
   },
   "outputs": [
    {
     "data": {
      "text/html": [
       "<div>\n",
       "<style scoped>\n",
       "    .dataframe tbody tr th:only-of-type {\n",
       "        vertical-align: middle;\n",
       "    }\n",
       "\n",
       "    .dataframe tbody tr th {\n",
       "        vertical-align: top;\n",
       "    }\n",
       "\n",
       "    .dataframe thead th {\n",
       "        text-align: right;\n",
       "    }\n",
       "</style>\n",
       "<table border=\"1\" class=\"dataframe\">\n",
       "  <thead>\n",
       "    <tr style=\"text-align: right;\">\n",
       "      <th></th>\n",
       "      <th>t_dat</th>\n",
       "      <th>customer_id</th>\n",
       "      <th>article_id</th>\n",
       "      <th>price</th>\n",
       "      <th>sales_channel_id</th>\n",
       "      <th>week</th>\n",
       "    </tr>\n",
       "  </thead>\n",
       "  <tbody>\n",
       "    <tr>\n",
       "      <th>30253369</th>\n",
       "      <td>2020-08-12</td>\n",
       "      <td>200292573348128</td>\n",
       "      <td>816563004</td>\n",
       "      <td>0.013542</td>\n",
       "      <td>2</td>\n",
       "      <td>99</td>\n",
       "    </tr>\n",
       "    <tr>\n",
       "      <th>30288386</th>\n",
       "      <td>2020-08-12</td>\n",
       "      <td>1037449031262554</td>\n",
       "      <td>813094004</td>\n",
       "      <td>0.013542</td>\n",
       "      <td>2</td>\n",
       "      <td>99</td>\n",
       "    </tr>\n",
       "    <tr>\n",
       "      <th>30237540</th>\n",
       "      <td>2020-08-12</td>\n",
       "      <td>2468546290291055</td>\n",
       "      <td>941005005</td>\n",
       "      <td>0.010831</td>\n",
       "      <td>2</td>\n",
       "      <td>99</td>\n",
       "    </tr>\n",
       "    <tr>\n",
       "      <th>30265271</th>\n",
       "      <td>2020-08-12</td>\n",
       "      <td>4920151714340210</td>\n",
       "      <td>817834002</td>\n",
       "      <td>0.022017</td>\n",
       "      <td>2</td>\n",
       "      <td>99</td>\n",
       "    </tr>\n",
       "    <tr>\n",
       "      <th>30244769</th>\n",
       "      <td>2020-08-12</td>\n",
       "      <td>5474139543167571</td>\n",
       "      <td>806388028</td>\n",
       "      <td>0.010831</td>\n",
       "      <td>2</td>\n",
       "      <td>99</td>\n",
       "    </tr>\n",
       "    <tr>\n",
       "      <th>...</th>\n",
       "      <td>...</td>\n",
       "      <td>...</td>\n",
       "      <td>...</td>\n",
       "      <td>...</td>\n",
       "      <td>...</td>\n",
       "      <td>...</td>\n",
       "    </tr>\n",
       "    <tr>\n",
       "      <th>31760188</th>\n",
       "      <td>2020-09-22</td>\n",
       "      <td>18435221511488011015</td>\n",
       "      <td>573085055</td>\n",
       "      <td>0.033881</td>\n",
       "      <td>1</td>\n",
       "      <td>104</td>\n",
       "    </tr>\n",
       "    <tr>\n",
       "      <th>31782234</th>\n",
       "      <td>2020-09-22</td>\n",
       "      <td>18436859303155335645</td>\n",
       "      <td>801447001</td>\n",
       "      <td>0.030492</td>\n",
       "      <td>1</td>\n",
       "      <td>104</td>\n",
       "    </tr>\n",
       "    <tr>\n",
       "      <th>31787251</th>\n",
       "      <td>2020-09-22</td>\n",
       "      <td>18437941771381362708</td>\n",
       "      <td>907188001</td>\n",
       "      <td>0.050831</td>\n",
       "      <td>2</td>\n",
       "      <td>104</td>\n",
       "    </tr>\n",
       "    <tr>\n",
       "      <th>31776022</th>\n",
       "      <td>2020-09-22</td>\n",
       "      <td>18438270306572912089</td>\n",
       "      <td>751471043</td>\n",
       "      <td>0.033881</td>\n",
       "      <td>1</td>\n",
       "      <td>104</td>\n",
       "    </tr>\n",
       "    <tr>\n",
       "      <th>31779097</th>\n",
       "      <td>2020-09-22</td>\n",
       "      <td>18440902715633436014</td>\n",
       "      <td>918894002</td>\n",
       "      <td>0.016932</td>\n",
       "      <td>1</td>\n",
       "      <td>104</td>\n",
       "    </tr>\n",
       "  </tbody>\n",
       "</table>\n",
       "<p>440207 rows × 6 columns</p>\n",
       "</div>"
      ],
      "text/plain": [
       "              t_dat           customer_id  article_id     price  \\\n",
       "30253369 2020-08-12       200292573348128   816563004  0.013542   \n",
       "30288386 2020-08-12      1037449031262554   813094004  0.013542   \n",
       "30237540 2020-08-12      2468546290291055   941005005  0.010831   \n",
       "30265271 2020-08-12      4920151714340210   817834002  0.022017   \n",
       "30244769 2020-08-12      5474139543167571   806388028  0.010831   \n",
       "...             ...                   ...         ...       ...   \n",
       "31760188 2020-09-22  18435221511488011015   573085055  0.033881   \n",
       "31782234 2020-09-22  18436859303155335645   801447001  0.030492   \n",
       "31787251 2020-09-22  18437941771381362708   907188001  0.050831   \n",
       "31776022 2020-09-22  18438270306572912089   751471043  0.033881   \n",
       "31779097 2020-09-22  18440902715633436014   918894002  0.016932   \n",
       "\n",
       "          sales_channel_id  week  \n",
       "30253369                 2    99  \n",
       "30288386                 2    99  \n",
       "30237540                 2    99  \n",
       "30265271                 2    99  \n",
       "30244769                 2    99  \n",
       "...                    ...   ...  \n",
       "31760188                 1   104  \n",
       "31782234                 1   104  \n",
       "31787251                 2   104  \n",
       "31776022                 1   104  \n",
       "31779097                 1   104  \n",
       "\n",
       "[440207 rows x 6 columns]"
      ]
     },
     "execution_count": 72,
     "metadata": {},
     "output_type": "execute_result"
    }
   ],
   "source": [
    "transactions.drop_duplicates(['week', 'customer_id'])"
   ]
  },
  {
   "cell_type": "code",
   "execution_count": 73,
   "id": "47cfad94",
   "metadata": {
    "execution": {
     "iopub.execute_input": "2022-05-12T00:23:47.404153Z",
     "iopub.status.busy": "2022-05-12T00:23:47.403841Z",
     "iopub.status.idle": "2022-05-12T00:23:47.748694Z",
     "shell.execute_reply": "2022-05-12T00:23:47.747508Z"
    },
    "papermill": {
     "duration": 0.393175,
     "end_time": "2022-05-12T00:23:47.751473",
     "exception": false,
     "start_time": "2022-05-12T00:23:47.358298",
     "status": "completed"
    },
    "tags": []
   },
   "outputs": [],
   "source": [
    "candidates_bestsellers = pd.merge(\n",
    "    unique_transactions,\n",
    "    bestsellers_previous_week,\n",
    "    on='week',\n",
    ")"
   ]
  },
  {
   "cell_type": "code",
   "execution_count": 74,
   "id": "ad8c8f65",
   "metadata": {
    "execution": {
     "iopub.execute_input": "2022-05-12T00:23:47.842236Z",
     "iopub.status.busy": "2022-05-12T00:23:47.841251Z",
     "iopub.status.idle": "2022-05-12T00:23:47.902803Z",
     "shell.execute_reply": "2022-05-12T00:23:47.902082Z"
    },
    "papermill": {
     "duration": 0.106802,
     "end_time": "2022-05-12T00:23:47.904961",
     "exception": false,
     "start_time": "2022-05-12T00:23:47.798159",
     "status": "completed"
    },
    "tags": []
   },
   "outputs": [],
   "source": [
    "test_set_transactions = unique_transactions.drop_duplicates('customer_id').reset_index(drop=True)\n",
    "test_set_transactions.week = test_week"
   ]
  },
  {
   "cell_type": "code",
   "execution_count": 75,
   "id": "12a1d7f2",
   "metadata": {
    "execution": {
     "iopub.execute_input": "2022-05-12T00:23:47.991355Z",
     "iopub.status.busy": "2022-05-12T00:23:47.991052Z",
     "iopub.status.idle": "2022-05-12T00:23:48.286312Z",
     "shell.execute_reply": "2022-05-12T00:23:48.284945Z"
    },
    "papermill": {
     "duration": 0.341217,
     "end_time": "2022-05-12T00:23:48.288664",
     "exception": false,
     "start_time": "2022-05-12T00:23:47.947447",
     "status": "completed"
    },
    "tags": []
   },
   "outputs": [],
   "source": [
    "candidates_bestsellers_test_week = pd.merge(\n",
    "    test_set_transactions,\n",
    "    bestsellers_previous_week,\n",
    "    on='week'\n",
    ")"
   ]
  },
  {
   "cell_type": "code",
   "execution_count": 76,
   "id": "e1cf9def",
   "metadata": {
    "execution": {
     "iopub.execute_input": "2022-05-12T00:23:48.375329Z",
     "iopub.status.busy": "2022-05-12T00:23:48.374757Z",
     "iopub.status.idle": "2022-05-12T00:23:48.904067Z",
     "shell.execute_reply": "2022-05-12T00:23:48.903447Z"
    },
    "papermill": {
     "duration": 0.574967,
     "end_time": "2022-05-12T00:23:48.906231",
     "exception": false,
     "start_time": "2022-05-12T00:23:48.331264",
     "status": "completed"
    },
    "tags": []
   },
   "outputs": [],
   "source": [
    "candidates_bestsellers = pd.concat([candidates_bestsellers, candidates_bestsellers_test_week])\n",
    "candidates_bestsellers.drop(columns='bestseller_rank', inplace=True)"
   ]
  },
  {
   "cell_type": "markdown",
   "id": "59d05fc7",
   "metadata": {
    "papermill": {
     "duration": 0.042394,
     "end_time": "2022-05-12T00:23:48.992670",
     "exception": false,
     "start_time": "2022-05-12T00:23:48.950276",
     "status": "completed"
    },
    "tags": []
   },
   "source": [
    "# Combining transactions and candidates / negative examples"
   ]
  },
  {
   "cell_type": "code",
   "execution_count": 77,
   "id": "57fde3bc",
   "metadata": {
    "execution": {
     "iopub.execute_input": "2022-05-12T00:23:49.085039Z",
     "iopub.status.busy": "2022-05-12T00:23:49.084519Z",
     "iopub.status.idle": "2022-05-12T00:23:49.090258Z",
     "shell.execute_reply": "2022-05-12T00:23:49.089565Z"
    },
    "papermill": {
     "duration": 0.05325,
     "end_time": "2022-05-12T00:23:49.092442",
     "exception": false,
     "start_time": "2022-05-12T00:23:49.039192",
     "status": "completed"
    },
    "tags": []
   },
   "outputs": [],
   "source": [
    "transactions['purchased'] = 1"
   ]
  },
  {
   "cell_type": "code",
   "execution_count": 78,
   "id": "e0b46c86",
   "metadata": {
    "execution": {
     "iopub.execute_input": "2022-05-12T00:23:49.182096Z",
     "iopub.status.busy": "2022-05-12T00:23:49.181508Z",
     "iopub.status.idle": "2022-05-12T00:23:49.514528Z",
     "shell.execute_reply": "2022-05-12T00:23:49.513616Z"
    },
    "papermill": {
     "duration": 0.38154,
     "end_time": "2022-05-12T00:23:49.516913",
     "exception": false,
     "start_time": "2022-05-12T00:23:49.135373",
     "status": "completed"
    },
    "tags": []
   },
   "outputs": [],
   "source": [
    "data = pd.concat([transactions, candidates_last_purchase, candidates_bestsellers])\n",
    "data.purchased.fillna(0, inplace=True)"
   ]
  },
  {
   "cell_type": "code",
   "execution_count": 79,
   "id": "e4245408",
   "metadata": {
    "execution": {
     "iopub.execute_input": "2022-05-12T00:23:49.604765Z",
     "iopub.status.busy": "2022-05-12T00:23:49.604478Z",
     "iopub.status.idle": "2022-05-12T00:23:52.962652Z",
     "shell.execute_reply": "2022-05-12T00:23:52.961749Z"
    },
    "papermill": {
     "duration": 3.404686,
     "end_time": "2022-05-12T00:23:52.964950",
     "exception": false,
     "start_time": "2022-05-12T00:23:49.560264",
     "status": "completed"
    },
    "tags": []
   },
   "outputs": [],
   "source": [
    "data.drop_duplicates(['customer_id', 'article_id', 'week'], inplace=True)"
   ]
  },
  {
   "cell_type": "markdown",
   "id": "66845768",
   "metadata": {
    "papermill": {
     "duration": 0.040841,
     "end_time": "2022-05-12T00:23:53.046679",
     "exception": false,
     "start_time": "2022-05-12T00:23:53.005838",
     "status": "completed"
    },
    "tags": []
   },
   "source": [
    "### Add bestseller information"
   ]
  },
  {
   "cell_type": "code",
   "execution_count": 80,
   "id": "f8deff0d",
   "metadata": {
    "execution": {
     "iopub.execute_input": "2022-05-12T00:23:53.132664Z",
     "iopub.status.busy": "2022-05-12T00:23:53.132344Z",
     "iopub.status.idle": "2022-05-12T00:23:55.395588Z",
     "shell.execute_reply": "2022-05-12T00:23:55.394124Z"
    },
    "papermill": {
     "duration": 2.309726,
     "end_time": "2022-05-12T00:23:55.398667",
     "exception": false,
     "start_time": "2022-05-12T00:23:53.088941",
     "status": "completed"
    },
    "tags": []
   },
   "outputs": [],
   "source": [
    "data = pd.merge(\n",
    "    data,\n",
    "    bestsellers_previous_week[['week', 'article_id', 'bestseller_rank']],\n",
    "    on=['week', 'article_id'],\n",
    "    how='left'\n",
    ")"
   ]
  },
  {
   "cell_type": "code",
   "execution_count": 81,
   "id": "44ba570b",
   "metadata": {
    "execution": {
     "iopub.execute_input": "2022-05-12T00:23:55.488299Z",
     "iopub.status.busy": "2022-05-12T00:23:55.488017Z",
     "iopub.status.idle": "2022-05-12T00:23:56.474539Z",
     "shell.execute_reply": "2022-05-12T00:23:56.473273Z"
    },
    "papermill": {
     "duration": 1.033401,
     "end_time": "2022-05-12T00:23:56.476846",
     "exception": false,
     "start_time": "2022-05-12T00:23:55.443445",
     "status": "completed"
    },
    "tags": []
   },
   "outputs": [],
   "source": [
    "data = data[data.week != data.week.min()]\n",
    "data.bestseller_rank.fillna(999, inplace=True)"
   ]
  },
  {
   "cell_type": "code",
   "execution_count": 82,
   "id": "1e09cadb",
   "metadata": {
    "execution": {
     "iopub.execute_input": "2022-05-12T00:23:56.567483Z",
     "iopub.status.busy": "2022-05-12T00:23:56.567088Z",
     "iopub.status.idle": "2022-05-12T00:24:08.341006Z",
     "shell.execute_reply": "2022-05-12T00:24:08.340115Z"
    },
    "papermill": {
     "duration": 11.822083,
     "end_time": "2022-05-12T00:24:08.343145",
     "exception": false,
     "start_time": "2022-05-12T00:23:56.521062",
     "status": "completed"
    },
    "tags": []
   },
   "outputs": [],
   "source": [
    "data = pd.merge(data, articles, on='article_id', how='left')\n",
    "data = pd.merge(data, customers, on='customer_id', how='left')"
   ]
  },
  {
   "cell_type": "code",
   "execution_count": 83,
   "id": "cc6dbf39",
   "metadata": {
    "execution": {
     "iopub.execute_input": "2022-05-12T00:24:08.426967Z",
     "iopub.status.busy": "2022-05-12T00:24:08.426550Z",
     "iopub.status.idle": "2022-05-12T00:24:11.757047Z",
     "shell.execute_reply": "2022-05-12T00:24:11.756198Z"
    },
    "papermill": {
     "duration": 3.375064,
     "end_time": "2022-05-12T00:24:11.759350",
     "exception": false,
     "start_time": "2022-05-12T00:24:08.384286",
     "status": "completed"
    },
    "tags": []
   },
   "outputs": [],
   "source": [
    "data.sort_values(['week', 'customer_id'], ignore_index=True, inplace=True)\n",
    "# data.reset_index(drop=True, inplace=True)"
   ]
  },
  {
   "cell_type": "code",
   "execution_count": 84,
   "id": "ad197e7d",
   "metadata": {
    "execution": {
     "iopub.execute_input": "2022-05-12T00:24:11.845745Z",
     "iopub.status.busy": "2022-05-12T00:24:11.845459Z",
     "iopub.status.idle": "2022-05-12T00:24:15.597912Z",
     "shell.execute_reply": "2022-05-12T00:24:15.596718Z"
    },
    "papermill": {
     "duration": 3.798435,
     "end_time": "2022-05-12T00:24:15.600719",
     "exception": false,
     "start_time": "2022-05-12T00:24:11.802284",
     "status": "completed"
    },
    "tags": []
   },
   "outputs": [],
   "source": [
    "train = data[data.week != test_week]\n",
    "test = data[data.week==test_week].drop_duplicates(['customer_id', 'article_id', 'sales_channel_id']).copy()"
   ]
  },
  {
   "cell_type": "code",
   "execution_count": 85,
   "id": "b4b60206",
   "metadata": {
    "execution": {
     "iopub.execute_input": "2022-05-12T00:24:15.690344Z",
     "iopub.status.busy": "2022-05-12T00:24:15.689852Z",
     "iopub.status.idle": "2022-05-12T00:24:16.174301Z",
     "shell.execute_reply": "2022-05-12T00:24:16.173559Z"
    },
    "papermill": {
     "duration": 0.531352,
     "end_time": "2022-05-12T00:24:16.176455",
     "exception": false,
     "start_time": "2022-05-12T00:24:15.645103",
     "status": "completed"
    },
    "tags": []
   },
   "outputs": [],
   "source": [
    "train_baskets = train.groupby(['week', 'customer_id'])['article_id'].count().values"
   ]
  },
  {
   "cell_type": "code",
   "execution_count": 86,
   "id": "831c302c",
   "metadata": {
    "execution": {
     "iopub.execute_input": "2022-05-12T00:24:16.263431Z",
     "iopub.status.busy": "2022-05-12T00:24:16.262939Z",
     "iopub.status.idle": "2022-05-12T00:24:16.268302Z",
     "shell.execute_reply": "2022-05-12T00:24:16.267345Z"
    },
    "papermill": {
     "duration": 0.051515,
     "end_time": "2022-05-12T00:24:16.270295",
     "exception": false,
     "start_time": "2022-05-12T00:24:16.218780",
     "status": "completed"
    },
    "tags": []
   },
   "outputs": [
    {
     "data": {
      "text/plain": [
       "array([13, 32, 15, ..., 14, 19, 16])"
      ]
     },
     "execution_count": 86,
     "metadata": {},
     "output_type": "execute_result"
    }
   ],
   "source": [
    "train_baskets"
   ]
  },
  {
   "cell_type": "code",
   "execution_count": 87,
   "id": "c8c8d6ac",
   "metadata": {
    "execution": {
     "iopub.execute_input": "2022-05-12T00:24:16.355983Z",
     "iopub.status.busy": "2022-05-12T00:24:16.355210Z",
     "iopub.status.idle": "2022-05-12T00:24:16.360477Z",
     "shell.execute_reply": "2022-05-12T00:24:16.359538Z"
    },
    "papermill": {
     "duration": 0.051717,
     "end_time": "2022-05-12T00:24:16.362571",
     "exception": false,
     "start_time": "2022-05-12T00:24:16.310854",
     "status": "completed"
    },
    "tags": []
   },
   "outputs": [],
   "source": [
    "columns_to_use = ['article_id', 'product_type_no', 'graphical_appearance_no', 'colour_group_code', 'perceived_colour_value_id',\n",
    "'perceived_colour_master_id', 'department_no', 'index_code',\n",
    "'index_group_no', 'section_no', 'garment_group_no', 'FN', 'Active',\n",
    "'club_member_status', 'fashion_news_frequency', 'age', 'postal_code', 'bestseller_rank']"
   ]
  },
  {
   "cell_type": "code",
   "execution_count": 88,
   "id": "ef0ff239",
   "metadata": {
    "execution": {
     "iopub.execute_input": "2022-05-12T00:24:16.452654Z",
     "iopub.status.busy": "2022-05-12T00:24:16.451796Z",
     "iopub.status.idle": "2022-05-12T00:24:16.735344Z",
     "shell.execute_reply": "2022-05-12T00:24:16.734437Z"
    },
    "papermill": {
     "duration": 0.32984,
     "end_time": "2022-05-12T00:24:16.737682",
     "exception": false,
     "start_time": "2022-05-12T00:24:16.407842",
     "status": "completed"
    },
    "tags": []
   },
   "outputs": [
    {
     "name": "stdout",
     "output_type": "stream",
     "text": [
      "CPU times: user 125 ms, sys: 55.6 ms, total: 180 ms\n",
      "Wall time: 181 ms\n"
     ]
    }
   ],
   "source": [
    "%%time\n",
    "\n",
    "train_X = train[columns_to_use]\n",
    "train_y = train['purchased']\n",
    "\n",
    "test_X = test[columns_to_use]"
   ]
  },
  {
   "cell_type": "markdown",
   "id": "de70f724",
   "metadata": {
    "papermill": {
     "duration": 0.041253,
     "end_time": "2022-05-12T00:24:16.821190",
     "exception": false,
     "start_time": "2022-05-12T00:24:16.779937",
     "status": "completed"
    },
    "tags": []
   },
   "source": [
    "# Model training"
   ]
  },
  {
   "cell_type": "code",
   "execution_count": 89,
   "id": "4acd38dc",
   "metadata": {
    "execution": {
     "iopub.execute_input": "2022-05-12T00:24:16.905517Z",
     "iopub.status.busy": "2022-05-12T00:24:16.905016Z",
     "iopub.status.idle": "2022-05-12T00:24:17.828008Z",
     "shell.execute_reply": "2022-05-12T00:24:17.827280Z"
    },
    "papermill": {
     "duration": 0.968464,
     "end_time": "2022-05-12T00:24:17.830202",
     "exception": false,
     "start_time": "2022-05-12T00:24:16.861738",
     "status": "completed"
    },
    "tags": []
   },
   "outputs": [],
   "source": [
    "from lightgbm.sklearn import LGBMRanker"
   ]
  },
  {
   "cell_type": "code",
   "execution_count": 90,
   "id": "6131a997",
   "metadata": {
    "execution": {
     "iopub.execute_input": "2022-05-12T00:24:17.915085Z",
     "iopub.status.busy": "2022-05-12T00:24:17.914799Z",
     "iopub.status.idle": "2022-05-12T00:24:17.919702Z",
     "shell.execute_reply": "2022-05-12T00:24:17.918905Z"
    },
    "papermill": {
     "duration": 0.049144,
     "end_time": "2022-05-12T00:24:17.921715",
     "exception": false,
     "start_time": "2022-05-12T00:24:17.872571",
     "status": "completed"
    },
    "tags": []
   },
   "outputs": [],
   "source": [
    "ranker = LGBMRanker(\n",
    "    objective=\"lambdarank\",\n",
    "    metric=\"ndcg\",\n",
    "    boosting_type=\"dart\",\n",
    "    n_estimators=1,\n",
    "    importance_type='gain',\n",
    "    learning_rate=0.03,\n",
    "    verbose=10\n",
    ")"
   ]
  },
  {
   "cell_type": "code",
   "execution_count": null,
   "id": "a5d4eeb0",
   "metadata": {
    "papermill": {
     "duration": 0.041355,
     "end_time": "2022-05-12T00:24:18.006599",
     "exception": false,
     "start_time": "2022-05-12T00:24:17.965244",
     "status": "completed"
    },
    "tags": []
   },
   "outputs": [],
   "source": []
  },
  {
   "cell_type": "code",
   "execution_count": null,
   "id": "8016f0ae",
   "metadata": {
    "papermill": {
     "duration": 0.040998,
     "end_time": "2022-05-12T00:24:18.089107",
     "exception": false,
     "start_time": "2022-05-12T00:24:18.048109",
     "status": "completed"
    },
    "tags": []
   },
   "outputs": [],
   "source": []
  },
  {
   "cell_type": "code",
   "execution_count": 91,
   "id": "f331dab7",
   "metadata": {
    "execution": {
     "iopub.execute_input": "2022-05-12T00:24:18.179022Z",
     "iopub.status.busy": "2022-05-12T00:24:18.178237Z",
     "iopub.status.idle": "2022-05-12T00:24:23.548795Z",
     "shell.execute_reply": "2022-05-12T00:24:23.547756Z"
    },
    "papermill": {
     "duration": 5.421354,
     "end_time": "2022-05-12T00:24:23.551873",
     "exception": false,
     "start_time": "2022-05-12T00:24:18.130519",
     "status": "completed"
    },
    "tags": []
   },
   "outputs": [
    {
     "name": "stdout",
     "output_type": "stream",
     "text": [
      "[LightGBM] [Debug] Dataset::GetMultiBinFromSparseFeatures: sparse rate 0.766338\n",
      "[LightGBM] [Debug] Dataset::GetMultiBinFromAllFeatures: sparse rate 0.159207\n",
      "[LightGBM] [Debug] init for col-wise cost 0.089273 seconds, init for row-wise cost 0.291551 seconds\n",
      "[LightGBM] [Warning] Auto-choosing row-wise multi-threading, the overhead of testing was 0.211420 seconds.\n",
      "You can set `force_row_wise=true` to remove the overhead.\n",
      "And if memory is not enough, you can set `force_col_wise=true`.\n",
      "[LightGBM] [Debug] Using Dense Multi-Val Bin\n",
      "[LightGBM] [Info] Total Bins 1141\n",
      "[LightGBM] [Info] Number of data points in the train set: 5989162, number of used features: 18\n",
      "[LightGBM] [Debug] Trained a tree with leaves = 31 and depth = 11\n",
      "CPU times: user 13.2 s, sys: 369 ms, total: 13.5 s\n",
      "Wall time: 2.55 s\n"
     ]
    }
   ],
   "source": [
    "%%time\n",
    "\n",
    "ranker = ranker.fit(\n",
    "    train_X,\n",
    "    train_y,\n",
    "    group=train_baskets,\n",
    ")"
   ]
  },
  {
   "cell_type": "code",
   "execution_count": 92,
   "id": "a9f9843e",
   "metadata": {
    "execution": {
     "iopub.execute_input": "2022-05-12T00:24:23.645388Z",
     "iopub.status.busy": "2022-05-12T00:24:23.644950Z",
     "iopub.status.idle": "2022-05-12T00:24:23.656599Z",
     "shell.execute_reply": "2022-05-12T00:24:23.654549Z"
    },
    "papermill": {
     "duration": 0.060498,
     "end_time": "2022-05-12T00:24:23.658565",
     "exception": false,
     "start_time": "2022-05-12T00:24:23.598067",
     "status": "completed"
    },
    "tags": []
   },
   "outputs": [
    {
     "name": "stdout",
     "output_type": "stream",
     "text": [
      "bestseller_rank 0.9991720797336786\n",
      "age 0.00023485119110721393\n",
      "garment_group_no 0.00015674837467499075\n",
      "article_id 0.0001330345606614913\n",
      "Active 5.695676647972228e-05\n",
      "postal_code 5.693596595238847e-05\n",
      "department_no 4.372933462952986e-05\n",
      "product_type_no 3.9739393621352696e-05\n",
      "colour_group_code 3.566952896610535e-05\n",
      "perceived_colour_master_id 3.0459894142758814e-05\n",
      "club_member_status 3.0408131240056743e-05\n",
      "section_no 9.387124845744015e-06\n",
      "FN 0.0\n",
      "fashion_news_frequency 0.0\n",
      "index_code 0.0\n",
      "perceived_colour_value_id 0.0\n",
      "graphical_appearance_no 0.0\n",
      "index_group_no 0.0\n"
     ]
    }
   ],
   "source": [
    "for i in ranker.feature_importances_.argsort()[::-1]:\n",
    "    print(columns_to_use[i], ranker.feature_importances_[i]/ranker.feature_importances_.sum())"
   ]
  },
  {
   "cell_type": "markdown",
   "id": "6b4e482c",
   "metadata": {
    "papermill": {
     "duration": 0.045087,
     "end_time": "2022-05-12T00:24:23.746908",
     "exception": false,
     "start_time": "2022-05-12T00:24:23.701821",
     "status": "completed"
    },
    "tags": []
   },
   "source": [
    "# Calculate predictions"
   ]
  },
  {
   "cell_type": "code",
   "execution_count": 93,
   "id": "c279949b",
   "metadata": {
    "execution": {
     "iopub.execute_input": "2022-05-12T00:24:23.836607Z",
     "iopub.status.busy": "2022-05-12T00:24:23.836284Z",
     "iopub.status.idle": "2022-05-12T00:24:32.526453Z",
     "shell.execute_reply": "2022-05-12T00:24:32.525460Z"
    },
    "papermill": {
     "duration": 8.736568,
     "end_time": "2022-05-12T00:24:32.528747",
     "exception": false,
     "start_time": "2022-05-12T00:24:23.792179",
     "status": "completed"
    },
    "tags": []
   },
   "outputs": [
    {
     "name": "stdout",
     "output_type": "stream",
     "text": [
      "CPU times: user 8 µs, sys: 0 ns, total: 8 µs\n",
      "Wall time: 11.2 µs\n"
     ]
    }
   ],
   "source": [
    "%time\n",
    "\n",
    "test['preds'] = ranker.predict(test_X)\n",
    "\n",
    "c_id2predicted_article_ids = test \\\n",
    "    .sort_values(['customer_id', 'preds'], ascending=False) \\\n",
    "    .groupby('customer_id')['article_id'].apply(list).to_dict()\n",
    "\n",
    "bestsellers_last_week = \\\n",
    "    bestsellers_previous_week[bestsellers_previous_week.week == bestsellers_previous_week.week.max()]['article_id'].tolist()"
   ]
  },
  {
   "cell_type": "markdown",
   "id": "cbff51d7",
   "metadata": {
    "papermill": {
     "duration": 0.046556,
     "end_time": "2022-05-12T00:24:32.619332",
     "exception": false,
     "start_time": "2022-05-12T00:24:32.572776",
     "status": "completed"
    },
    "tags": []
   },
   "source": [
    "# Create submission"
   ]
  },
  {
   "cell_type": "code",
   "execution_count": 94,
   "id": "ceaa1ef6",
   "metadata": {
    "execution": {
     "iopub.execute_input": "2022-05-12T00:24:32.721560Z",
     "iopub.status.busy": "2022-05-12T00:24:32.720657Z",
     "iopub.status.idle": "2022-05-12T00:24:37.782499Z",
     "shell.execute_reply": "2022-05-12T00:24:37.780241Z"
    },
    "papermill": {
     "duration": 5.116856,
     "end_time": "2022-05-12T00:24:37.785487",
     "exception": false,
     "start_time": "2022-05-12T00:24:32.668631",
     "status": "completed"
    },
    "tags": []
   },
   "outputs": [],
   "source": [
    "sub = pd.read_csv('../input/h-and-m-personalized-fashion-recommendations/sample_submission.csv')"
   ]
  },
  {
   "cell_type": "code",
   "execution_count": 95,
   "id": "af6f9436",
   "metadata": {
    "execution": {
     "iopub.execute_input": "2022-05-12T00:24:37.883593Z",
     "iopub.status.busy": "2022-05-12T00:24:37.882895Z",
     "iopub.status.idle": "2022-05-12T00:24:43.795927Z",
     "shell.execute_reply": "2022-05-12T00:24:43.794573Z"
    },
    "papermill": {
     "duration": 5.96601,
     "end_time": "2022-05-12T00:24:43.798110",
     "exception": false,
     "start_time": "2022-05-12T00:24:37.832100",
     "status": "completed"
    },
    "tags": []
   },
   "outputs": [
    {
     "name": "stdout",
     "output_type": "stream",
     "text": [
      "CPU times: user 3.92 s, sys: 128 ms, total: 4.05 s\n",
      "Wall time: 4.04 s\n"
     ]
    }
   ],
   "source": [
    "%%time\n",
    "preds = []\n",
    "for c_id in customer_hex_id_to_int(sub.customer_id):\n",
    "    pred = c_id2predicted_article_ids.get(c_id, [])\n",
    "    pred = pred + bestsellers_last_week\n",
    "    preds.append(pred[:12])"
   ]
  },
  {
   "cell_type": "code",
   "execution_count": 96,
   "id": "98b35f22",
   "metadata": {
    "execution": {
     "iopub.execute_input": "2022-05-12T00:24:43.892935Z",
     "iopub.status.busy": "2022-05-12T00:24:43.892302Z",
     "iopub.status.idle": "2022-05-12T00:24:48.800811Z",
     "shell.execute_reply": "2022-05-12T00:24:48.799761Z"
    },
    "papermill": {
     "duration": 4.958531,
     "end_time": "2022-05-12T00:24:48.803507",
     "exception": false,
     "start_time": "2022-05-12T00:24:43.844976",
     "status": "completed"
    },
    "tags": []
   },
   "outputs": [],
   "source": [
    "preds = [' '.join(['0' + str(p) for p in ps]) for ps in preds]\n",
    "sub.prediction = preds"
   ]
  },
  {
   "cell_type": "code",
   "execution_count": 97,
   "id": "24728a48",
   "metadata": {
    "execution": {
     "iopub.execute_input": "2022-05-12T00:24:48.897447Z",
     "iopub.status.busy": "2022-05-12T00:24:48.896042Z",
     "iopub.status.idle": "2022-05-12T00:24:55.428950Z",
     "shell.execute_reply": "2022-05-12T00:24:55.428149Z"
    },
    "papermill": {
     "duration": 6.581874,
     "end_time": "2022-05-12T00:24:55.431303",
     "exception": false,
     "start_time": "2022-05-12T00:24:48.849429",
     "status": "completed"
    },
    "tags": []
   },
   "outputs": [],
   "source": [
    "sub_name = 'submission'\n",
    "sub.to_csv(f'{sub_name}.csv', index=False)"
   ]
  },
  {
   "cell_type": "code",
   "execution_count": null,
   "id": "46dc51a2",
   "metadata": {},
   "outputs": [],
   "source": []
  }
 ],
 "metadata": {
  "kernelspec": {
   "display_name": "Python 3 (ipykernel)",
   "language": "python",
   "name": "python3"
  },
  "language_info": {
   "codemirror_mode": {
    "name": "ipython",
    "version": 3
   },
   "file_extension": ".py",
   "mimetype": "text/x-python",
   "name": "python",
   "nbconvert_exporter": "python",
   "pygments_lexer": "ipython3",
   "version": "3.7.13"
  },
  "papermill": {
   "default_parameters": {},
   "duration": 111.47185,
   "end_time": "2022-05-12T00:24:56.904912",
   "environment_variables": {},
   "exception": null,
   "input_path": "__notebook__.ipynb",
   "output_path": "__notebook__.ipynb",
   "parameters": {},
   "start_time": "2022-05-12T00:23:05.433062",
   "version": "2.3.4"
  }
 },
 "nbformat": 4,
 "nbformat_minor": 5
}
